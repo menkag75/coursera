{
 "cells": [
  {
   "cell_type": "markdown",
   "metadata": {},
   "source": [
    "<center>\n",
    "    <img src=\"https://cf-courses-data.s3.us.cloud-object-storage.appdomain.cloud/IBMDeveloperSkillsNetwork-DS0105EN-SkillsNetwork/labs/Module2/images/SN_web_lightmode.png\" width=\"300\" alt=\"cognitiveclass.ai logo\">\n",
    "</center>\n"
   ]
  },
  {
   "cell_type": "markdown",
   "metadata": {},
   "source": [
    "#### Add your code below following the instructions given in the course\n"
   ]
  },
  {
   "cell_type": "markdown",
   "metadata": {
    "tags": []
   },
   "source": [
    "# My Jupyter Notebook on IBM Watson Studio"
   ]
  },
  {
   "cell_type": "markdown",
   "metadata": {},
   "source": [
    "__Valentina Im__  \n",
    "Medical Scribe"
   ]
  },
  {
   "cell_type": "markdown",
   "metadata": {},
   "source": [
    "_I am interested in data science because I believe that it has great potential to influence our healthcare system to better serve patients and provide more effective and efficient care. I see how data science already influences decision making, and I hope to be able to contribute positively to the healthcare industry._"
   ]
  },
  {
   "cell_type": "markdown",
   "metadata": {
    "tags": []
   },
   "source": [
    "### The following code randomly generates a number between 0 and 9 by using the random integer generator in the random package. It then prints this number. If the number is greater than 5, the code will tell us that the number is a \"large\" number. If this number is less than 5, the code indicates that this is a \"small\" number."
   ]
  },
  {
   "cell_type": "code",
   "execution_count": 10,
   "metadata": {},
   "outputs": [
    {
     "name": "stdout",
     "output_type": "stream",
     "text": [
      "1\n",
      "small\n"
     ]
    }
   ],
   "source": [
    "import random\n",
    "a = random.randint(0,9)\n",
    "print (a)\n",
    "\n",
    "if a>5:\n",
    "    print(\"large\")\n",
    "\n",
    "else:\n",
    "    print(\"small\")"
   ]
  },
  {
   "cell_type": "markdown",
   "metadata": {},
   "source": [
    "To better understand the random number generator, please read the following article that details the [random number generator](https://www.programiz.com/python-programming/examples/random-number). This code is still quite simple, and there are many additional applications to this. The following lists my own possible ideas for future exploration:\n",
    "1. Create more definitions for integers.\n",
    "2. Transform random integer values with an equation or by other methods.\n",
    "3. Allow this to run through a loop in order to create more data samples and perform analysis.\n",
    "\n",
    "A more detailed visualization of the code output is demonstrated in the table below.\n",
    "|integer value|code print out|\n",
    "|---|---|\n",
    "|0|small|\n",
    "|1|small|\n",
    "|2|small|\n",
    "|3|small|\n",
    "|4|small|\n",
    "|5|small|\n",
    "|6|large|\n",
    "|7|large|\n",
    "|8|large|\n",
    "|9|large|"
   ]
  }
 ],
 "metadata": {
  "kernelspec": {
   "display_name": "Python",
   "language": "python",
   "name": "conda-env-python-py"
  },
  "language_info": {
   "codemirror_mode": {
    "name": "ipython",
    "version": 3
   },
   "file_extension": ".py",
   "mimetype": "text/x-python",
   "name": "python",
   "nbconvert_exporter": "python",
   "pygments_lexer": "ipython3",
   "version": "3.7.12"
  }
 },
 "nbformat": 4,
 "nbformat_minor": 4
}
